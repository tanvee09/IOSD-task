{
 "cells": [
  {
   "cell_type": "code",
   "execution_count": 1,
   "metadata": {
    "_cell_guid": "b1076dfc-b9ad-4769-8c92-a6c4dae69d19",
    "_uuid": "8f2839f25d086af736a60e9eeb907d3b93b6e0e5",
    "execution": {
     "iopub.execute_input": "2021-05-23T04:52:39.013448Z",
     "iopub.status.busy": "2021-05-23T04:52:39.013045Z",
     "iopub.status.idle": "2021-05-23T04:52:39.377592Z",
     "shell.execute_reply": "2021-05-23T04:52:39.376550Z",
     "shell.execute_reply.started": "2021-05-23T04:52:39.013352Z"
    }
   },
   "outputs": [],
   "source": [
    "import numpy as np\n",
    "import pandas as pd\n",
    "import seaborn as sns\n",
    "import matplotlib.pyplot as plt"
   ]
  },
  {
   "cell_type": "code",
   "execution_count": 2,
   "metadata": {
    "execution": {
     "iopub.execute_input": "2021-05-23T04:52:39.379817Z",
     "iopub.status.busy": "2021-05-23T04:52:39.379466Z",
     "iopub.status.idle": "2021-05-23T04:52:39.403320Z",
     "shell.execute_reply": "2021-05-23T04:52:39.402134Z",
     "shell.execute_reply.started": "2021-05-23T04:52:39.379783Z"
    }
   },
   "outputs": [
    {
     "data": {
      "text/html": [
       "<div>\n",
       "<style scoped>\n",
       "    .dataframe tbody tr th:only-of-type {\n",
       "        vertical-align: middle;\n",
       "    }\n",
       "\n",
       "    .dataframe tbody tr th {\n",
       "        vertical-align: top;\n",
       "    }\n",
       "\n",
       "    .dataframe thead th {\n",
       "        text-align: right;\n",
       "    }\n",
       "</style>\n",
       "<table border=\"1\" class=\"dataframe\">\n",
       "  <thead>\n",
       "    <tr style=\"text-align: right;\">\n",
       "      <th></th>\n",
       "      <th>shoe size</th>\n",
       "      <th>height</th>\n",
       "      <th>class</th>\n",
       "    </tr>\n",
       "  </thead>\n",
       "  <tbody>\n",
       "    <tr>\n",
       "      <th>0</th>\n",
       "      <td>8.518110</td>\n",
       "      <td>73.029460</td>\n",
       "      <td>seniors</td>\n",
       "    </tr>\n",
       "    <tr>\n",
       "      <th>1</th>\n",
       "      <td>10.301527</td>\n",
       "      <td>68.959677</td>\n",
       "      <td>seniors</td>\n",
       "    </tr>\n",
       "    <tr>\n",
       "      <th>2</th>\n",
       "      <td>7.386575</td>\n",
       "      <td>73.558042</td>\n",
       "      <td>seniors</td>\n",
       "    </tr>\n",
       "    <tr>\n",
       "      <th>3</th>\n",
       "      <td>9.477281</td>\n",
       "      <td>68.195558</td>\n",
       "      <td>seniors</td>\n",
       "    </tr>\n",
       "    <tr>\n",
       "      <th>4</th>\n",
       "      <td>10.910389</td>\n",
       "      <td>75.144672</td>\n",
       "      <td>seniors</td>\n",
       "    </tr>\n",
       "  </tbody>\n",
       "</table>\n",
       "</div>"
      ],
      "text/plain": [
       "   shoe size     height    class\n",
       "0   8.518110  73.029460  seniors\n",
       "1  10.301527  68.959677  seniors\n",
       "2   7.386575  73.558042  seniors\n",
       "3   9.477281  68.195558  seniors\n",
       "4  10.910389  75.144672  seniors"
      ]
     },
     "execution_count": 2,
     "metadata": {},
     "output_type": "execute_result"
    }
   ],
   "source": [
    "data = pd.read_csv('train.csv')\n",
    "data.head()"
   ]
  },
  {
   "cell_type": "markdown",
   "metadata": {},
   "source": [
    "# EDA"
   ]
  },
  {
   "cell_type": "code",
   "execution_count": 3,
   "metadata": {
    "execution": {
     "iopub.execute_input": "2021-05-23T04:52:39.405357Z",
     "iopub.status.busy": "2021-05-23T04:52:39.405052Z",
     "iopub.status.idle": "2021-05-23T04:52:39.414191Z",
     "shell.execute_reply": "2021-05-23T04:52:39.412740Z",
     "shell.execute_reply.started": "2021-05-23T04:52:39.405329Z"
    }
   },
   "outputs": [
    {
     "data": {
      "text/plain": [
       "fourth     225\n",
       "seniors    225\n",
       "Name: class, dtype: int64"
      ]
     },
     "execution_count": 3,
     "metadata": {},
     "output_type": "execute_result"
    }
   ],
   "source": [
    "data['class'].value_counts()"
   ]
  },
  {
   "cell_type": "markdown",
   "metadata": {},
   "source": [
    "Data is well balanced and not skewed towards a particular class."
   ]
  },
  {
   "cell_type": "code",
   "execution_count": 4,
   "metadata": {
    "execution": {
     "iopub.execute_input": "2021-05-23T04:52:39.416340Z",
     "iopub.status.busy": "2021-05-23T04:52:39.415796Z",
     "iopub.status.idle": "2021-05-23T04:52:39.444975Z",
     "shell.execute_reply": "2021-05-23T04:52:39.443973Z",
     "shell.execute_reply.started": "2021-05-23T04:52:39.416166Z"
    }
   },
   "outputs": [
    {
     "data": {
      "text/html": [
       "<div>\n",
       "<style scoped>\n",
       "    .dataframe tbody tr th:only-of-type {\n",
       "        vertical-align: middle;\n",
       "    }\n",
       "\n",
       "    .dataframe tbody tr th {\n",
       "        vertical-align: top;\n",
       "    }\n",
       "\n",
       "    .dataframe thead th {\n",
       "        text-align: right;\n",
       "    }\n",
       "</style>\n",
       "<table border=\"1\" class=\"dataframe\">\n",
       "  <thead>\n",
       "    <tr style=\"text-align: right;\">\n",
       "      <th></th>\n",
       "      <th>shoe size</th>\n",
       "      <th>height</th>\n",
       "    </tr>\n",
       "  </thead>\n",
       "  <tbody>\n",
       "    <tr>\n",
       "      <th>count</th>\n",
       "      <td>450.000000</td>\n",
       "      <td>450.000000</td>\n",
       "    </tr>\n",
       "    <tr>\n",
       "      <th>mean</th>\n",
       "      <td>8.568978</td>\n",
       "      <td>63.972348</td>\n",
       "    </tr>\n",
       "    <tr>\n",
       "      <th>std</th>\n",
       "      <td>1.830174</td>\n",
       "      <td>6.476236</td>\n",
       "    </tr>\n",
       "    <tr>\n",
       "      <th>min</th>\n",
       "      <td>5.111486</td>\n",
       "      <td>51.081101</td>\n",
       "    </tr>\n",
       "    <tr>\n",
       "      <th>25%</th>\n",
       "      <td>7.059852</td>\n",
       "      <td>58.014739</td>\n",
       "    </tr>\n",
       "    <tr>\n",
       "      <th>50%</th>\n",
       "      <td>8.270641</td>\n",
       "      <td>63.190777</td>\n",
       "    </tr>\n",
       "    <tr>\n",
       "      <th>75%</th>\n",
       "      <td>10.162677</td>\n",
       "      <td>69.438135</td>\n",
       "    </tr>\n",
       "    <tr>\n",
       "      <th>max</th>\n",
       "      <td>14.305728</td>\n",
       "      <td>79.560421</td>\n",
       "    </tr>\n",
       "  </tbody>\n",
       "</table>\n",
       "</div>"
      ],
      "text/plain": [
       "        shoe size      height\n",
       "count  450.000000  450.000000\n",
       "mean     8.568978   63.972348\n",
       "std      1.830174    6.476236\n",
       "min      5.111486   51.081101\n",
       "25%      7.059852   58.014739\n",
       "50%      8.270641   63.190777\n",
       "75%     10.162677   69.438135\n",
       "max     14.305728   79.560421"
      ]
     },
     "execution_count": 4,
     "metadata": {},
     "output_type": "execute_result"
    }
   ],
   "source": [
    "data.describe()"
   ]
  },
  {
   "cell_type": "code",
   "execution_count": 5,
   "metadata": {
    "execution": {
     "iopub.execute_input": "2021-05-23T04:52:39.446586Z",
     "iopub.status.busy": "2021-05-23T04:52:39.446272Z",
     "iopub.status.idle": "2021-05-23T04:52:39.460422Z",
     "shell.execute_reply": "2021-05-23T04:52:39.459648Z",
     "shell.execute_reply.started": "2021-05-23T04:52:39.446557Z"
    }
   },
   "outputs": [
    {
     "name": "stdout",
     "output_type": "stream",
     "text": [
      "<class 'pandas.core.frame.DataFrame'>\n",
      "RangeIndex: 450 entries, 0 to 449\n",
      "Data columns (total 3 columns):\n",
      " #   Column     Non-Null Count  Dtype  \n",
      "---  ------     --------------  -----  \n",
      " 0   shoe size  450 non-null    float64\n",
      " 1   height     450 non-null    float64\n",
      " 2   class      450 non-null    object \n",
      "dtypes: float64(2), object(1)\n",
      "memory usage: 10.7+ KB\n"
     ]
    }
   ],
   "source": [
    "data.info()"
   ]
  },
  {
   "cell_type": "markdown",
   "metadata": {},
   "source": [
    "There are no missing values and imputation is not required."
   ]
  },
  {
   "cell_type": "code",
   "execution_count": 6,
   "metadata": {
    "execution": {
     "iopub.execute_input": "2021-05-23T04:52:39.461888Z",
     "iopub.status.busy": "2021-05-23T04:52:39.461453Z",
     "iopub.status.idle": "2021-05-23T04:52:39.786818Z",
     "shell.execute_reply": "2021-05-23T04:52:39.785656Z",
     "shell.execute_reply.started": "2021-05-23T04:52:39.461857Z"
    }
   },
   "outputs": [
    {
     "name": "stdout",
     "output_type": "stream",
     "text": [
      "Mean of Shoe Size -  8.568977686013334\n"
     ]
    },
    {
     "data": {
      "image/png": "[encoded data removed]",
      "text/plain": [
       "<Figure size 360x360 with 1 Axes>"
      ]
     },
     "metadata": {
      "needs_background": "light"
     },
     "output_type": "display_data"
    }
   ],
   "source": [
    "print('Mean of Shoe Size - ', data['shoe size'].mean())\n",
    "sns.displot(data, x='shoe size', kde=True)\n",
    "plt.show()"
   ]
  },
  {
   "cell_type": "code",
   "execution_count": 7,
   "metadata": {
    "execution": {
     "iopub.execute_input": "2021-05-23T04:52:39.788286Z",
     "iopub.status.busy": "2021-05-23T04:52:39.788002Z",
     "iopub.status.idle": "2021-05-23T04:52:40.110943Z",
     "shell.execute_reply": "2021-05-23T04:52:40.109831Z",
     "shell.execute_reply.started": "2021-05-23T04:52:39.788259Z"
    }
   },
   "outputs": [
    {
     "name": "stdout",
     "output_type": "stream",
     "text": [
      "Mean of Height -  63.97234826331111\n"
     ]
    },
    {
     "data": {
      "image/png": "[encoded data removed]",
      "text/plain": [
       "<Figure size 360x360 with 1 Axes>"
      ]
     },
     "metadata": {
      "needs_background": "light"
     },
     "output_type": "display_data"
    }
   ],
   "source": [
    "print('Mean of Height - ', data['height'].mean())\n",
    "sns.displot(data, x='height', kde=True)\n",
    "plt.show()"
   ]
  },
  {
   "cell_type": "markdown",
   "metadata": {},
   "source": [
    "Nothing much can be inferred from the distributions."
   ]
  },
  {
   "cell_type": "code",
   "execution_count": 8,
   "metadata": {
    "execution": {
     "iopub.execute_input": "2021-05-23T04:52:40.114014Z",
     "iopub.status.busy": "2021-05-23T04:52:40.113721Z",
     "iopub.status.idle": "2021-05-23T04:52:40.143286Z",
     "shell.execute_reply": "2021-05-23T04:52:40.141967Z",
     "shell.execute_reply.started": "2021-05-23T04:52:40.113986Z"
    }
   },
   "outputs": [
    {
     "data": {
      "text/html": [
       "<div>\n",
       "<style scoped>\n",
       "    .dataframe tbody tr th:only-of-type {\n",
       "        vertical-align: middle;\n",
       "    }\n",
       "\n",
       "    .dataframe tbody tr th {\n",
       "        vertical-align: top;\n",
       "    }\n",
       "\n",
       "    .dataframe thead tr th {\n",
       "        text-align: left;\n",
       "    }\n",
       "\n",
       "    .dataframe thead tr:last-of-type th {\n",
       "        text-align: right;\n",
       "    }\n",
       "</style>\n",
       "<table border=\"1\" class=\"dataframe\">\n",
       "  <thead>\n",
       "    <tr>\n",
       "      <th></th>\n",
       "      <th colspan=\"4\" halign=\"left\">shoe size</th>\n",
       "      <th colspan=\"4\" halign=\"left\">height</th>\n",
       "    </tr>\n",
       "    <tr>\n",
       "      <th></th>\n",
       "      <th>mean</th>\n",
       "      <th>std</th>\n",
       "      <th>amin</th>\n",
       "      <th>amax</th>\n",
       "      <th>mean</th>\n",
       "      <th>std</th>\n",
       "      <th>amin</th>\n",
       "      <th>amax</th>\n",
       "    </tr>\n",
       "    <tr>\n",
       "      <th>class</th>\n",
       "      <th></th>\n",
       "      <th></th>\n",
       "      <th></th>\n",
       "      <th></th>\n",
       "      <th></th>\n",
       "      <th></th>\n",
       "      <th></th>\n",
       "      <th></th>\n",
       "    </tr>\n",
       "  </thead>\n",
       "  <tbody>\n",
       "    <tr>\n",
       "      <th>fourth</th>\n",
       "      <td>7.057436</td>\n",
       "      <td>0.827191</td>\n",
       "      <td>5.111486</td>\n",
       "      <td>10.430710</td>\n",
       "      <td>58.064356</td>\n",
       "      <td>2.133830</td>\n",
       "      <td>51.081101</td>\n",
       "      <td>64.227919</td>\n",
       "    </tr>\n",
       "    <tr>\n",
       "      <th>seniors</th>\n",
       "      <td>10.080519</td>\n",
       "      <td>1.199946</td>\n",
       "      <td>6.815541</td>\n",
       "      <td>14.305728</td>\n",
       "      <td>69.880340</td>\n",
       "      <td>3.065437</td>\n",
       "      <td>62.611955</td>\n",
       "      <td>79.560421</td>\n",
       "    </tr>\n",
       "  </tbody>\n",
       "</table>\n",
       "</div>"
      ],
      "text/plain": [
       "         shoe size                                    height            \\\n",
       "              mean       std      amin       amax       mean       std   \n",
       "class                                                                    \n",
       "fourth    7.057436  0.827191  5.111486  10.430710  58.064356  2.133830   \n",
       "seniors  10.080519  1.199946  6.815541  14.305728  69.880340  3.065437   \n",
       "\n",
       "                               \n",
       "              amin       amax  \n",
       "class                          \n",
       "fourth   51.081101  64.227919  \n",
       "seniors  62.611955  79.560421  "
      ]
     },
     "execution_count": 8,
     "metadata": {},
     "output_type": "execute_result"
    }
   ],
   "source": [
    "data.groupby(['class']).agg([np.mean, np.std, np.min,np.max])"
   ]
  },
  {
   "cell_type": "markdown",
   "metadata": {},
   "source": [
    "Seniors have greater shoe size and height than fourth."
   ]
  },
  {
   "cell_type": "code",
   "execution_count": 9,
   "metadata": {
    "execution": {
     "iopub.execute_input": "2021-05-23T04:52:40.146403Z",
     "iopub.status.busy": "2021-05-23T04:52:40.145919Z",
     "iopub.status.idle": "2021-05-23T04:52:40.328957Z",
     "shell.execute_reply": "2021-05-23T04:52:40.327541Z",
     "shell.execute_reply.started": "2021-05-23T04:52:40.146351Z"
    }
   },
   "outputs": [
    {
     "data": {
      "image/png": "[encoded data removed]",
      "text/plain": [
       "<Figure size 432x288 with 1 Axes>"
      ]
     },
     "metadata": {
      "needs_background": "light"
     },
     "output_type": "display_data"
    }
   ],
   "source": [
    "data['big shoe size'] = (data['shoe size'] > data['shoe size'].mean()).astype('int8')\n",
    "sns.countplot(x='big shoe size', hue='class', data=data)\n",
    "plt.show()"
   ]
  },
  {
   "cell_type": "code",
   "execution_count": 10,
   "metadata": {
    "execution": {
     "iopub.execute_input": "2021-05-23T04:52:40.331005Z",
     "iopub.status.busy": "2021-05-23T04:52:40.330553Z",
     "iopub.status.idle": "2021-05-23T04:52:40.488692Z",
     "shell.execute_reply": "2021-05-23T04:52:40.487508Z",
     "shell.execute_reply.started": "2021-05-23T04:52:40.330972Z"
    }
   },
   "outputs": [
    {
     "data": {
      "image/png": "[encoded data removed]",
      "text/plain": [
       "<Figure size 432x288 with 1 Axes>"
      ]
     },
     "metadata": {
      "needs_background": "light"
     },
     "output_type": "display_data"
    }
   ],
   "source": [
    "data['tall'] = (data['height'] > data['height'].mean()).astype('int8')\n",
    "sns.countplot(x='tall', hue='class', data=data)\n",
    "plt.show()"
   ]
  },
  {
   "cell_type": "code",
   "execution_count": 11,
   "metadata": {
    "execution": {
     "iopub.execute_input": "2021-05-23T04:52:40.490677Z",
     "iopub.status.busy": "2021-05-23T04:52:40.490260Z",
     "iopub.status.idle": "2021-05-23T04:52:40.662547Z",
     "shell.execute_reply": "2021-05-23T04:52:40.661523Z",
     "shell.execute_reply.started": "2021-05-23T04:52:40.490628Z"
    }
   },
   "outputs": [
    {
     "data": {
      "image/png": "[encoded data removed]",
      "text/plain": [
       "<Figure size 432x288 with 1 Axes>"
      ]
     },
     "metadata": {
      "needs_background": "light"
     },
     "output_type": "display_data"
    }
   ],
   "source": [
    "plt.scatter(data['height'], data['shoe size'], c = (data['class'] == 'seniors').astype('int8'))\n",
    "plt.xlabel('height')\n",
    "plt.ylabel('shoe size')\n",
    "plt.show()"
   ]
  },
  {
   "cell_type": "markdown",
   "metadata": {},
   "source": [
    "# Pre-processing"
   ]
  },
  {
   "cell_type": "code",
   "execution_count": 12,
   "metadata": {
    "execution": {
     "iopub.execute_input": "2021-05-23T04:52:40.664253Z",
     "iopub.status.busy": "2021-05-23T04:52:40.663925Z",
     "iopub.status.idle": "2021-05-23T04:52:40.668327Z",
     "shell.execute_reply": "2021-05-23T04:52:40.667275Z",
     "shell.execute_reply.started": "2021-05-23T04:52:40.664220Z"
    }
   },
   "outputs": [],
   "source": [
    "class_dict = {\n",
    "    'fourth':  0,\n",
    "    'seniors': 1\n",
    "}"
   ]
  },
  {
   "cell_type": "code",
   "execution_count": 13,
   "metadata": {
    "execution": {
     "iopub.execute_input": "2021-05-23T04:52:40.670279Z",
     "iopub.status.busy": "2021-05-23T04:52:40.669870Z",
     "iopub.status.idle": "2021-05-23T04:52:40.683463Z",
     "shell.execute_reply": "2021-05-23T04:52:40.682361Z",
     "shell.execute_reply.started": "2021-05-23T04:52:40.670240Z"
    }
   },
   "outputs": [],
   "source": [
    "inverse_class_dict = {\n",
    "    0: 'fourth',\n",
    "    1: 'seniors'\n",
    "}"
   ]
  },
  {
   "cell_type": "code",
   "execution_count": 14,
   "metadata": {
    "execution": {
     "iopub.execute_input": "2021-05-23T04:52:40.685632Z",
     "iopub.status.busy": "2021-05-23T04:52:40.685186Z",
     "iopub.status.idle": "2021-05-23T04:52:40.699542Z",
     "shell.execute_reply": "2021-05-23T04:52:40.698441Z",
     "shell.execute_reply.started": "2021-05-23T04:52:40.685597Z"
    }
   },
   "outputs": [],
   "source": [
    "data['class'] = (data['class'] == 'seniors').astype('int8')"
   ]
  },
  {
   "cell_type": "code",
   "execution_count": 15,
   "metadata": {
    "execution": {
     "iopub.execute_input": "2021-05-23T04:52:40.701699Z",
     "iopub.status.busy": "2021-05-23T04:52:40.701320Z",
     "iopub.status.idle": "2021-05-23T04:52:40.713691Z",
     "shell.execute_reply": "2021-05-23T04:52:40.712819Z",
     "shell.execute_reply.started": "2021-05-23T04:52:40.701644Z"
    }
   },
   "outputs": [],
   "source": [
    "heightmean, heightstd = data['height'].mean(), data['height'].std()\n",
    "shoesizemean, shoesizestd = data['shoe size'].mean(), data['shoe size'].std()"
   ]
  },
  {
   "cell_type": "code",
   "execution_count": 16,
   "metadata": {
    "execution": {
     "iopub.execute_input": "2021-05-23T04:52:40.715419Z",
     "iopub.status.busy": "2021-05-23T04:52:40.715006Z",
     "iopub.status.idle": "2021-05-23T04:52:40.725797Z",
     "shell.execute_reply": "2021-05-23T04:52:40.724763Z",
     "shell.execute_reply.started": "2021-05-23T04:52:40.715372Z"
    }
   },
   "outputs": [],
   "source": [
    "def normalize(data) :\n",
    "    return (data - data.mean(axis=0)) / data.std(axis=0)"
   ]
  },
  {
   "cell_type": "code",
   "execution_count": 17,
   "metadata": {
    "execution": {
     "iopub.execute_input": "2021-05-23T04:52:40.727809Z",
     "iopub.status.busy": "2021-05-23T04:52:40.727350Z",
     "iopub.status.idle": "2021-05-23T04:52:40.742096Z",
     "shell.execute_reply": "2021-05-23T04:52:40.740857Z",
     "shell.execute_reply.started": "2021-05-23T04:52:40.727761Z"
    }
   },
   "outputs": [],
   "source": [
    "X = normalize(np.array(data[['shoe size', 'height']]))\n",
    "Y = np.array(data['class'])"
   ]
  },
  {
   "cell_type": "code",
   "execution_count": 18,
   "metadata": {
    "execution": {
     "iopub.execute_input": "2021-05-23T04:52:40.743882Z",
     "iopub.status.busy": "2021-05-23T04:52:40.743522Z",
     "iopub.status.idle": "2021-05-23T04:52:40.757830Z",
     "shell.execute_reply": "2021-05-23T04:52:40.756751Z",
     "shell.execute_reply.started": "2021-05-23T04:52:40.743848Z"
    }
   },
   "outputs": [
    {
     "name": "stdout",
     "output_type": "stream",
     "text": [
      "(450, 2) (450,)\n"
     ]
    }
   ],
   "source": [
    "print(X.shape, Y.shape)"
   ]
  },
  {
   "cell_type": "code",
   "execution_count": 19,
   "metadata": {
    "execution": {
     "iopub.execute_input": "2021-05-23T04:52:40.759374Z",
     "iopub.status.busy": "2021-05-23T04:52:40.759089Z",
     "iopub.status.idle": "2021-05-23T04:52:40.938725Z",
     "shell.execute_reply": "2021-05-23T04:52:40.937652Z",
     "shell.execute_reply.started": "2021-05-23T04:52:40.759348Z"
    }
   },
   "outputs": [],
   "source": [
    "from sklearn.model_selection import train_test_split"
   ]
  },
  {
   "cell_type": "markdown",
   "metadata": {},
   "source": [
    "#### Train - Validation Split"
   ]
  },
  {
   "cell_type": "code",
   "execution_count": 20,
   "metadata": {
    "execution": {
     "iopub.execute_input": "2021-05-23T04:52:40.940339Z",
     "iopub.status.busy": "2021-05-23T04:52:40.940052Z",
     "iopub.status.idle": "2021-05-23T04:52:40.946229Z",
     "shell.execute_reply": "2021-05-23T04:52:40.945292Z",
     "shell.execute_reply.started": "2021-05-23T04:52:40.940311Z"
    }
   },
   "outputs": [],
   "source": [
    "X_train, X_validation, Y_train, Y_validation = train_test_split(X, Y, test_size=0.111, random_state=42)"
   ]
  },
  {
   "cell_type": "code",
   "execution_count": 21,
   "metadata": {
    "execution": {
     "iopub.execute_input": "2021-05-23T04:52:40.948054Z",
     "iopub.status.busy": "2021-05-23T04:52:40.947475Z",
     "iopub.status.idle": "2021-05-23T04:52:40.968704Z",
     "shell.execute_reply": "2021-05-23T04:52:40.967643Z",
     "shell.execute_reply.started": "2021-05-23T04:52:40.948017Z"
    }
   },
   "outputs": [
    {
     "name": "stdout",
     "output_type": "stream",
     "text": [
      "(400, 2) (400,) (50, 2) (50,)\n"
     ]
    }
   ],
   "source": [
    "print(X_train.shape, Y_train.shape, X_validation.shape, Y_validation.shape)"
   ]
  },
  {
   "cell_type": "markdown",
   "metadata": {},
   "source": [
    "# KNN"
   ]
  },
  {
   "cell_type": "code",
   "execution_count": 22,
   "metadata": {
    "execution": {
     "iopub.execute_input": "2021-05-23T04:52:40.970478Z",
     "iopub.status.busy": "2021-05-23T04:52:40.970167Z",
     "iopub.status.idle": "2021-05-23T04:52:40.980172Z",
     "shell.execute_reply": "2021-05-23T04:52:40.979337Z",
     "shell.execute_reply.started": "2021-05-23T04:52:40.970432Z"
    }
   },
   "outputs": [],
   "source": [
    "class KNN :\n",
    "    def __init__(self, xdata, ydata, k) :\n",
    "        self.xdata = xdata\n",
    "        self.ydata = ydata\n",
    "        self.k = k\n",
    "        self.m, self.n = xdata.shape\n",
    "        \n",
    "    def euclideanDist(self, x1, x2) :\n",
    "        return np.sqrt(np.sum((x1 - x2) ** 2))\n",
    "    \n",
    "    def pointPredict(self, queryPoint) :\n",
    "        distances = []\n",
    "        for i in range(self.m) :\n",
    "            d = self.euclideanDist(queryPoint, self.xdata[i])\n",
    "            distances.append((d, self.ydata[i]))\n",
    "        \n",
    "        distances.sort()\n",
    "        distances = np.array(distances[:self.k])\n",
    "        \n",
    "        dist_freq = np.unique(distances[:,1], return_counts = True) # new_vals = [[val], [freq]]\n",
    "        max_freq_index = dist_freq[1].argmax()\n",
    "        pred = dist_freq[0][max_freq_index]\n",
    "        return pred\n",
    "    \n",
    "    def arrayPredict(self, X) :\n",
    "        result = []\n",
    "        m, n = X.shape\n",
    "        for i in range(m) :\n",
    "            result.append(self.pointPredict(X[i]))\n",
    "        return np.array(result)\n"
   ]
  },
  {
   "cell_type": "code",
   "execution_count": 23,
   "metadata": {
    "execution": {
     "iopub.execute_input": "2021-05-23T04:52:40.981899Z",
     "iopub.status.busy": "2021-05-23T04:52:40.981386Z",
     "iopub.status.idle": "2021-05-23T04:52:40.993355Z",
     "shell.execute_reply": "2021-05-23T04:52:40.992324Z",
     "shell.execute_reply.started": "2021-05-23T04:52:40.981861Z"
    }
   },
   "outputs": [],
   "source": [
    "from sklearn.metrics import accuracy_score"
   ]
  },
  {
   "cell_type": "code",
   "execution_count": 24,
   "metadata": {
    "execution": {
     "iopub.execute_input": "2021-05-23T04:52:40.995298Z",
     "iopub.status.busy": "2021-05-23T04:52:40.994991Z",
     "iopub.status.idle": "2021-05-23T04:53:39.641310Z",
     "shell.execute_reply": "2021-05-23T04:53:39.640124Z",
     "shell.execute_reply.started": "2021-05-23T04:52:40.995270Z"
    }
   },
   "outputs": [
    {
     "name": "stdout",
     "output_type": "stream",
     "text": [
      "k = 1\t===>\tTrain Accuracy = 100.0%,  \tValidation Accuracy = 100.0%\n",
      "k = 2\t===>\tTrain Accuracy = 99.75%,  \tValidation Accuracy = 100.0%\n",
      "k = 3\t===>\tTrain Accuracy = 99.75%,  \tValidation Accuracy = 100.0%\n",
      "k = 4\t===>\tTrain Accuracy = 99.5%,  \tValidation Accuracy = 100.0%\n",
      "k = 5\t===>\tTrain Accuracy = 100.0%,  \tValidation Accuracy = 100.0%\n",
      "k = 6\t===>\tTrain Accuracy = 100.0%,  \tValidation Accuracy = 100.0%\n",
      "k = 7\t===>\tTrain Accuracy = 100.0%,  \tValidation Accuracy = 100.0%\n",
      "k = 8\t===>\tTrain Accuracy = 100.0%,  \tValidation Accuracy = 100.0%\n",
      "k = 9\t===>\tTrain Accuracy = 100.0%,  \tValidation Accuracy = 100.0%\n",
      "k = 10\t===>\tTrain Accuracy = 100.0%,  \tValidation Accuracy = 100.0%\n",
      "k = 11\t===>\tTrain Accuracy = 100.0%,  \tValidation Accuracy = 100.0%\n",
      "k = 12\t===>\tTrain Accuracy = 100.0%,  \tValidation Accuracy = 100.0%\n",
      "k = 13\t===>\tTrain Accuracy = 100.0%,  \tValidation Accuracy = 100.0%\n",
      "k = 14\t===>\tTrain Accuracy = 100.0%,  \tValidation Accuracy = 100.0%\n",
      "k = 15\t===>\tTrain Accuracy = 100.0%,  \tValidation Accuracy = 100.0%\n",
      "k = 16\t===>\tTrain Accuracy = 100.0%,  \tValidation Accuracy = 100.0%\n",
      "k = 17\t===>\tTrain Accuracy = 100.0%,  \tValidation Accuracy = 100.0%\n",
      "k = 18\t===>\tTrain Accuracy = 100.0%,  \tValidation Accuracy = 100.0%\n",
      "k = 19\t===>\tTrain Accuracy = 100.0%,  \tValidation Accuracy = 100.0%\n",
      "k = 20\t===>\tTrain Accuracy = 100.0%,  \tValidation Accuracy = 100.0%\n"
     ]
    }
   ],
   "source": [
    "validation_acc = [0]\n",
    "train_acc = [0]\n",
    "\n",
    "for k in range(1, 21) :\n",
    "    knn = KNN(X_train, Y_train, k)\n",
    "    Y_pred_train = knn.arrayPredict(X_train)\n",
    "    Y_pred_validation = knn.arrayPredict(X_validation)\n",
    "    validation_acc.append(accuracy_score(Y_pred_validation, Y_validation) * 100)\n",
    "    train_acc.append(accuracy_score(Y_pred_train, Y_train) * 100)\n",
    "    \n",
    "    print('k = {}\\t===>\\tTrain Accuracy = {}%,  \\tValidation Accuracy = {}%'.format(k, train_acc[k], validation_acc[k]))"
   ]
  },
  {
   "cell_type": "code",
   "execution_count": 25,
   "metadata": {
    "execution": {
     "iopub.execute_input": "2021-05-23T04:53:39.643602Z",
     "iopub.status.busy": "2021-05-23T04:53:39.643139Z",
     "iopub.status.idle": "2021-05-23T04:53:39.803270Z",
     "shell.execute_reply": "2021-05-23T04:53:39.802036Z",
     "shell.execute_reply.started": "2021-05-23T04:53:39.643552Z"
    }
   },
   "outputs": [
    {
     "data": {
      "image/png": "[encoded data removed]",
      "text/plain": [
       "<Figure size 432x288 with 1 Axes>"
      ]
     },
     "metadata": {
      "needs_background": "light"
     },
     "output_type": "display_data"
    }
   ],
   "source": [
    "plt.plot(train_acc, color='green', label='Train Accuracy')\n",
    "plt.plot(validation_acc, color='red', label = 'Validation Accuracy')\n",
    "plt.show()"
   ]
  },
  {
   "cell_type": "markdown",
   "metadata": {},
   "source": [
    "# Prediction"
   ]
  },
  {
   "cell_type": "markdown",
   "metadata": {},
   "source": [
    "#### Taking the value of k to be _**10**_"
   ]
  },
  {
   "cell_type": "code",
   "execution_count": 26,
   "metadata": {
    "execution": {
     "iopub.execute_input": "2021-05-23T04:53:39.809391Z",
     "iopub.status.busy": "2021-05-23T04:53:39.808865Z",
     "iopub.status.idle": "2021-05-23T04:53:39.813987Z",
     "shell.execute_reply": "2021-05-23T04:53:39.812886Z",
     "shell.execute_reply.started": "2021-05-23T04:53:39.809349Z"
    }
   },
   "outputs": [],
   "source": [
    "knn = KNN(X_train, Y_train, 10)"
   ]
  },
  {
   "cell_type": "code",
   "execution_count": 27,
   "metadata": {
    "execution": {
     "iopub.execute_input": "2021-05-23T04:53:39.817296Z",
     "iopub.status.busy": "2021-05-23T04:53:39.816884Z",
     "iopub.status.idle": "2021-05-23T04:53:39.841006Z",
     "shell.execute_reply": "2021-05-23T04:53:39.840113Z",
     "shell.execute_reply.started": "2021-05-23T04:53:39.817261Z"
    }
   },
   "outputs": [
    {
     "data": {
      "text/html": [
       "<div>\n",
       "<style scoped>\n",
       "    .dataframe tbody tr th:only-of-type {\n",
       "        vertical-align: middle;\n",
       "    }\n",
       "\n",
       "    .dataframe tbody tr th {\n",
       "        vertical-align: top;\n",
       "    }\n",
       "\n",
       "    .dataframe thead th {\n",
       "        text-align: right;\n",
       "    }\n",
       "</style>\n",
       "<table border=\"1\" class=\"dataframe\">\n",
       "  <thead>\n",
       "    <tr style=\"text-align: right;\">\n",
       "      <th></th>\n",
       "      <th>shoe size</th>\n",
       "      <th>height</th>\n",
       "      <th>class</th>\n",
       "    </tr>\n",
       "  </thead>\n",
       "  <tbody>\n",
       "    <tr>\n",
       "      <th>0</th>\n",
       "      <td>12.985509</td>\n",
       "      <td>66.632266</td>\n",
       "      <td>seniors</td>\n",
       "    </tr>\n",
       "    <tr>\n",
       "      <th>1</th>\n",
       "      <td>9.957683</td>\n",
       "      <td>70.057887</td>\n",
       "      <td>seniors</td>\n",
       "    </tr>\n",
       "    <tr>\n",
       "      <th>2</th>\n",
       "      <td>10.366656</td>\n",
       "      <td>67.945519</td>\n",
       "      <td>seniors</td>\n",
       "    </tr>\n",
       "    <tr>\n",
       "      <th>3</th>\n",
       "      <td>10.484072</td>\n",
       "      <td>74.846184</td>\n",
       "      <td>seniors</td>\n",
       "    </tr>\n",
       "    <tr>\n",
       "      <th>4</th>\n",
       "      <td>10.273374</td>\n",
       "      <td>66.690172</td>\n",
       "      <td>seniors</td>\n",
       "    </tr>\n",
       "  </tbody>\n",
       "</table>\n",
       "</div>"
      ],
      "text/plain": [
       "   shoe size     height    class\n",
       "0  12.985509  66.632266  seniors\n",
       "1   9.957683  70.057887  seniors\n",
       "2  10.366656  67.945519  seniors\n",
       "3  10.484072  74.846184  seniors\n",
       "4  10.273374  66.690172  seniors"
      ]
     },
     "execution_count": 27,
     "metadata": {},
     "output_type": "execute_result"
    }
   ],
   "source": [
    "test_data = pd.read_csv('test.csv')\n",
    "test_data.head()"
   ]
  },
  {
   "cell_type": "code",
   "execution_count": 28,
   "metadata": {
    "execution": {
     "iopub.execute_input": "2021-05-23T04:53:39.842201Z",
     "iopub.status.busy": "2021-05-23T04:53:39.841943Z",
     "iopub.status.idle": "2021-05-23T04:53:39.851176Z",
     "shell.execute_reply": "2021-05-23T04:53:39.850030Z",
     "shell.execute_reply.started": "2021-05-23T04:53:39.842174Z"
    }
   },
   "outputs": [],
   "source": [
    "X_test, Y_test = np.array(test_data[['shoe size', 'height']]), np.array(test_data['class'])"
   ]
  },
  {
   "cell_type": "code",
   "execution_count": 29,
   "metadata": {
    "execution": {
     "iopub.execute_input": "2021-05-23T04:53:39.854756Z",
     "iopub.status.busy": "2021-05-23T04:53:39.854437Z",
     "iopub.status.idle": "2021-05-23T04:53:39.870034Z",
     "shell.execute_reply": "2021-05-23T04:53:39.868681Z",
     "shell.execute_reply.started": "2021-05-23T04:53:39.854726Z"
    }
   },
   "outputs": [],
   "source": [
    "X_test[:, 0] = (X_test[:, 0] - shoesizemean) / shoesizestd\n",
    "X_test[:, 1] = (X_test[:, 1] - heightmean) / heightstd"
   ]
  },
  {
   "cell_type": "code",
   "execution_count": 30,
   "metadata": {
    "execution": {
     "iopub.execute_input": "2021-05-23T04:53:39.872094Z",
     "iopub.status.busy": "2021-05-23T04:53:39.871627Z",
     "iopub.status.idle": "2021-05-23T04:53:40.911493Z",
     "shell.execute_reply": "2021-05-23T04:53:40.910332Z",
     "shell.execute_reply.started": "2021-05-23T04:53:39.872058Z"
    }
   },
   "outputs": [],
   "source": [
    "Y_pred_test = knn.arrayPredict(X_test)\n",
    "size = Y_pred_test.shape[0]\n",
    "Y_test_class = []\n",
    "for i in range(size) :\n",
    "    Y_test_class.append(inverse_class_dict[Y_pred_test[i]])\n",
    "Y_test_class = np.array(Y_test_class)"
   ]
  },
  {
   "cell_type": "code",
   "execution_count": 31,
   "metadata": {
    "execution": {
     "iopub.execute_input": "2021-05-23T04:53:40.913355Z",
     "iopub.status.busy": "2021-05-23T04:53:40.912981Z",
     "iopub.status.idle": "2021-05-23T04:53:40.920289Z",
     "shell.execute_reply": "2021-05-23T04:53:40.919249Z",
     "shell.execute_reply.started": "2021-05-23T04:53:40.913319Z"
    }
   },
   "outputs": [
    {
     "name": "stdout",
     "output_type": "stream",
     "text": [
      "Accuracy for Test Data ===> 0.9933333333333333\n"
     ]
    }
   ],
   "source": [
    "print('Accuracy for Test Data ===> {}'.format(accuracy_score(Y_test_class, Y_test)))"
   ]
  }
 ],
 "metadata": {
  "kernelspec": {
   "display_name": "Python 3",
   "language": "python",
   "name": "python3"
  },
  "language_info": {
   "codemirror_mode": {
    "name": "ipython",
    "version": 3
   },
   "file_extension": ".py",
   "mimetype": "text/x-python",
   "name": "python",
   "nbconvert_exporter": "python",
   "pygments_lexer": "ipython3",
   "version": "3.8.5"
  }
 },
 "nbformat": 4,
 "nbformat_minor": 4
}
